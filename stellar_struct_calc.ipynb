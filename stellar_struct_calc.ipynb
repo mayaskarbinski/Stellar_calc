{
 "cells": [
  {
   "cell_type": "code",
   "execution_count": 1,
   "id": "fe008a6f",
   "metadata": {},
   "outputs": [],
   "source": [
    "#import\n",
    "import numpy as np\n",
    "from scipy.optimize import fsolve\n",
    "from astropy.io import ascii\n",
    "from astropy.io import fits\n",
    "import matplotlib.pyplot as plt\n",
    "from astropy.io import fits\n",
    "from astropy.table import Table, hstack, unique, vstack\n",
    "from scipy.integrate import solve_ivp\n",
    "from scipy.interpolate import RectBivariateSpline\n",
    "from scipy.optimize import minimize, rosen, rosen_der"
   ]
  },
  {
   "cell_type": "code",
   "execution_count": 2,
   "id": "128f70fb",
   "metadata": {},
   "outputs": [],
   "source": [
    "# Plotting properties\n",
    "from matplotlib import rc\n",
    "plt.rcParams['text.usetex'] = True\n",
    "plt.rcParams['font.family'] = 'serif'\n",
    "plt.rcParams['font.weight'] = 'normal'\n",
    "plt.rcParams['xtick.major.pad'] = 5\n",
    "plt.rcParams['ytick.major.pad'] = 5\n",
    "plt.rcParams['axes.labelpad'] = 10\n",
    "plt.rcParams['font.size'] = 20\n",
    "plt.rcParams['legend.fontsize'] = 10\n",
    "plt.rcParams['legend.numpoints'] = 1\n",
    "plt.rcParams['savefig.dpi'] = 100\n",
    "plt.rcParams['mathtext.default'] = 'regular'\n",
    "labels_font = {'size':'20'} "
   ]
  },
  {
   "cell_type": "code",
   "execution_count": 3,
   "id": "376cdfca",
   "metadata": {},
   "outputs": [
    {
     "name": "stdout",
     "output_type": "stream",
     "text": [
      "1.0\n"
     ]
    }
   ],
   "source": [
    "#initial conditions\n",
    "M_solar = 2 #solar masses\n",
    "X = 0.7\n",
    "Y = 0.29\n",
    "Z = 0.01\n",
    "print(X+Y+Z)"
   ]
  },
  {
   "cell_type": "code",
   "execution_count": 4,
   "id": "1b1ead42",
   "metadata": {},
   "outputs": [],
   "source": [
    "#constants\n",
    "k = 1.380658e-16\n",
    "mu = 4/(3+5*X)\n",
    "m_H = 1.6726231e-24\n",
    "a = 7.5646e-15\n",
    "c = 2.99792458e10\n",
    "Ms = 1.989e33\n",
    "Rs = 6.96e10\n",
    "Ls = 3.826e33\n",
    "M = M_solar * Ms\n",
    "sb = 5.67051e-5\n",
    "G = 6.67259e-8"
   ]
  },
  {
   "cell_type": "code",
   "execution_count": null,
   "id": "5957c60b",
   "metadata": {},
   "outputs": [],
   "source": []
  },
  {
   "cell_type": "markdown",
   "id": "7d1a31af",
   "metadata": {},
   "source": [
    "# Opacity table"
   ]
  },
  {
   "cell_type": "code",
   "execution_count": 5,
   "id": "efbf7125",
   "metadata": {},
   "outputs": [
    {
     "data": {
      "text/html": [
       "<div><i>Table length=61</i>\n",
       "<table id=\"table140536580490800\" class=\"table-striped table-bordered table-condensed\">\n",
       "<thead><tr><th>col2</th><th>col3</th><th>col4</th><th>col5</th><th>col6</th><th>col7</th><th>col8</th><th>col9</th><th>col10</th><th>col11</th><th>col12</th><th>col13</th><th>col14</th><th>col15</th><th>col16</th><th>col17</th></tr></thead>\n",
       "<thead><tr><th>float64</th><th>float64</th><th>float64</th><th>float64</th><th>float64</th><th>float64</th><th>float64</th><th>float64</th><th>float64</th><th>float64</th><th>float64</th><th>float64</th><th>float64</th><th>float64</th><th>float64</th><th>float64</th></tr></thead>\n",
       "<tr><td>-0.77</td><td>-0.931</td><td>-1.123</td><td>-1.331</td><td>-1.546</td><td>-1.76</td><td>-1.962</td><td>-2.135</td><td>-2.247</td><td>-2.266</td><td>-2.187</td><td>-2.034</td><td>-1.835</td><td>-1.617</td><td>-1.375</td><td>-1.096</td></tr>\n",
       "<tr><td>-0.564</td><td>-0.602</td><td>-0.679</td><td>-0.799</td><td>-0.948</td><td>-1.114</td><td>-1.278</td><td>-1.414</td><td>-1.501</td><td>-1.511</td><td>-1.438</td><td>-1.309</td><td>-1.128</td><td>-0.939</td><td>-0.721</td><td>-0.487</td></tr>\n",
       "<tr><td>-0.539</td><td>-0.535</td><td>-0.531</td><td>-0.53</td><td>-0.548</td><td>-0.593</td><td>-0.655</td><td>-0.712</td><td>-0.746</td><td>-0.734</td><td>-0.673</td><td>-0.565</td><td>-0.422</td><td>-0.264</td><td>-0.075</td><td>0.131</td></tr>\n",
       "<tr><td>-0.541</td><td>-0.532</td><td>-0.515</td><td>-0.481</td><td>-0.416</td><td>-0.322</td><td>-0.219</td><td>-0.127</td><td>-0.05</td><td>0.019</td><td>0.092</td><td>0.182</td><td>0.295</td><td>0.415</td><td>0.566</td><td>0.736</td></tr>\n",
       "<tr><td>-0.541</td><td>-0.534</td><td>-0.519</td><td>-0.484</td><td>-0.407</td><td>-0.268</td><td>-0.057</td><td>0.195</td><td>0.437</td><td>0.631</td><td>0.77</td><td>0.882</td><td>0.982</td><td>1.081</td><td>1.198</td><td>1.33</td></tr>\n",
       "<tr><td>-0.521</td><td>-0.526</td><td>-0.52</td><td>-0.493</td><td>-0.423</td><td>-0.282</td><td>-0.05</td><td>0.27</td><td>0.635</td><td>0.98</td><td>1.248</td><td>1.435</td><td>1.57</td><td>1.678</td><td>1.78</td><td>1.88</td></tr>\n",
       "<tr><td>...</td><td>...</td><td>...</td><td>...</td><td>...</td><td>...</td><td>...</td><td>...</td><td>...</td><td>...</td><td>...</td><td>...</td><td>...</td><td>...</td><td>...</td><td>...</td></tr>\n",
       "<tr><td>-0.478</td><td>-0.478</td><td>-0.478</td><td>-0.478</td><td>-0.478</td><td>-0.477</td><td>-0.473</td><td>-0.464</td><td>-0.44</td><td>-0.385</td><td>-0.28</td><td>-0.129</td><td>0.045</td><td>0.237</td><td>0.466</td><td>0.743</td></tr>\n",
       "<tr><td>-0.48</td><td>-0.48</td><td>-0.48</td><td>-0.48</td><td>-0.48</td><td>-0.478</td><td>-0.474</td><td>-0.466</td><td>-0.448</td><td>-0.406</td><td>-0.328</td><td>-0.209</td><td>-0.052</td><td>0.144</td><td>0.378</td><td>0.652</td></tr>\n",
       "<tr><td>-0.483</td><td>-0.483</td><td>-0.483</td><td>-0.482</td><td>-0.482</td><td>-0.481</td><td>-0.477</td><td>-0.468</td><td>-0.449</td><td>-0.412</td><td>-0.349</td><td>-0.249</td><td>-0.104</td><td>0.079</td><td>0.298</td><td>0.561</td></tr>\n",
       "<tr><td>-0.486</td><td>-0.486</td><td>-0.486</td><td>-0.486</td><td>-0.485</td><td>-0.485</td><td>-0.482</td><td>-0.474</td><td>-0.454</td><td>-0.418</td><td>-0.359</td><td>-0.269</td><td>-0.142</td><td>0.018</td><td>0.216</td><td>0.469</td></tr>\n",
       "<tr><td>-0.49</td><td>-0.49</td><td>-0.49</td><td>-0.49</td><td>-0.49</td><td>-0.489</td><td>-0.487</td><td>-0.482</td><td>-0.466</td><td>-0.434</td><td>-0.377</td><td>-0.293</td><td>-0.186</td><td>-0.051</td><td>0.131</td><td>0.37</td></tr>\n",
       "<tr><td>-0.495</td><td>-0.495</td><td>-0.495</td><td>-0.495</td><td>-0.495</td><td>-0.494</td><td>-0.493</td><td>-0.489</td><td>-0.479</td><td>-0.454</td><td>-0.405</td><td>-0.332</td><td>-0.241</td><td>-0.122</td><td>0.051</td><td>0.279</td></tr>\n",
       "<tr><td>-0.501</td><td>-0.501</td><td>-0.501</td><td>-0.501</td><td>-0.501</td><td>-0.501</td><td>-0.5</td><td>-0.497</td><td>-0.49</td><td>-0.472</td><td>-0.434</td><td>-0.375</td><td>-0.296</td><td>-0.188</td><td>-0.028</td><td>0.193</td></tr>\n",
       "</table></div>"
      ],
      "text/plain": [
       "<Table length=61>\n",
       "  col2    col3    col4    col5    col6  ...  col14   col15   col16   col17 \n",
       "float64 float64 float64 float64 float64 ... float64 float64 float64 float64\n",
       "------- ------- ------- ------- ------- ... ------- ------- ------- -------\n",
       "  -0.77  -0.931  -1.123  -1.331  -1.546 ...  -1.835  -1.617  -1.375  -1.096\n",
       " -0.564  -0.602  -0.679  -0.799  -0.948 ...  -1.128  -0.939  -0.721  -0.487\n",
       " -0.539  -0.535  -0.531   -0.53  -0.548 ...  -0.422  -0.264  -0.075   0.131\n",
       " -0.541  -0.532  -0.515  -0.481  -0.416 ...   0.295   0.415   0.566   0.736\n",
       " -0.541  -0.534  -0.519  -0.484  -0.407 ...   0.982   1.081   1.198    1.33\n",
       " -0.521  -0.526   -0.52  -0.493  -0.423 ...    1.57   1.678    1.78    1.88\n",
       "    ...     ...     ...     ...     ... ...     ...     ...     ...     ...\n",
       " -0.478  -0.478  -0.478  -0.478  -0.478 ...   0.045   0.237   0.466   0.743\n",
       "  -0.48   -0.48   -0.48   -0.48   -0.48 ...  -0.052   0.144   0.378   0.652\n",
       " -0.483  -0.483  -0.483  -0.482  -0.482 ...  -0.104   0.079   0.298   0.561\n",
       " -0.486  -0.486  -0.486  -0.486  -0.485 ...  -0.142   0.018   0.216   0.469\n",
       "  -0.49   -0.49   -0.49   -0.49   -0.49 ...  -0.186  -0.051   0.131    0.37\n",
       " -0.495  -0.495  -0.495  -0.495  -0.495 ...  -0.241  -0.122   0.051   0.279\n",
       " -0.501  -0.501  -0.501  -0.501  -0.501 ...  -0.296  -0.188  -0.028   0.193"
      ]
     },
     "execution_count": 5,
     "metadata": {},
     "output_type": "execute_result"
    }
   ],
   "source": [
    "opacity_table = ((ascii.read('./opacity.txt', fast_reader=False)))\n",
    "logR_tab = [-8.0,-7.5,-7.0,-6.5,-6.0,-5.5,-5.0,-4.5,-4.0,-3.5,-3.0,-2.5,-2.0,-1.5,-1.0,-0.5,0.0,0.5,1.0]\n",
    "logT_tab = opacity_table['col1'][:-9] \n",
    "del opacity_table['col1']\n",
    "opacity_table=Table(opacity_table)\n",
    "opacity_table = opacity_table[:-9]\n",
    "del opacity_table['col18']\n",
    "del opacity_table['col19']\n",
    "del opacity_table['col20']\n",
    "logR_tab = [-8.0,-7.5,-7.0,-6.5,-6.0,-5.5,-5.0,-4.5,-4.0,-3.5,-3.0,-2.5,-2.0,-1.5,-1.0,-0.5]\n",
    "opacity_table"
   ]
  },
  {
   "cell_type": "code",
   "execution_count": 6,
   "id": "f6a88b58",
   "metadata": {},
   "outputs": [
    {
     "data": {
      "text/html": [
       "&lt;Column name=&apos;col1&apos; dtype=&apos;float64&apos; length=61&gt;\n",
       "<table>\n",
       "<tr><td>3.75</td></tr>\n",
       "<tr><td>3.8</td></tr>\n",
       "<tr><td>3.85</td></tr>\n",
       "<tr><td>3.9</td></tr>\n",
       "<tr><td>3.95</td></tr>\n",
       "<tr><td>4.0</td></tr>\n",
       "<tr><td>4.05</td></tr>\n",
       "<tr><td>4.1</td></tr>\n",
       "<tr><td>4.15</td></tr>\n",
       "<tr><td>...</td></tr>\n",
       "<tr><td>6.8</td></tr>\n",
       "<tr><td>6.9</td></tr>\n",
       "<tr><td>7.0</td></tr>\n",
       "<tr><td>7.1</td></tr>\n",
       "<tr><td>7.2</td></tr>\n",
       "<tr><td>7.3</td></tr>\n",
       "<tr><td>7.4</td></tr>\n",
       "<tr><td>7.5</td></tr>\n",
       "</table>"
      ],
      "text/plain": [
       "<Column name='col1' dtype='float64' length=61>\n",
       "3.75\n",
       " 3.8\n",
       "3.85\n",
       " 3.9\n",
       "3.95\n",
       " 4.0\n",
       "4.05\n",
       " 4.1\n",
       "4.15\n",
       " ...\n",
       " 6.8\n",
       " 6.9\n",
       " 7.0\n",
       " 7.1\n",
       " 7.2\n",
       " 7.3\n",
       " 7.4\n",
       " 7.5"
      ]
     },
     "execution_count": 6,
     "metadata": {},
     "output_type": "execute_result"
    }
   ],
   "source": [
    "logT_tab"
   ]
  },
  {
   "cell_type": "code",
   "execution_count": 7,
   "id": "942d82d5",
   "metadata": {},
   "outputs": [
    {
     "data": {
      "text/plain": [
       "((61, 16),\n",
       " array([[-0.77 , -0.931, -1.123, -1.331, -1.546, -1.76 , -1.962, -2.135,\n",
       "         -2.247, -2.266, -2.187, -2.034, -1.835, -1.617, -1.375, -1.096],\n",
       "        [-0.564, -0.602, -0.679, -0.799, -0.948, -1.114, -1.278, -1.414,\n",
       "         -1.501, -1.511, -1.438, -1.309, -1.128, -0.939, -0.721, -0.487],\n",
       "        [-0.539, -0.535, -0.531, -0.53 , -0.548, -0.593, -0.655, -0.712,\n",
       "         -0.746, -0.734, -0.673, -0.565, -0.422, -0.264, -0.075,  0.131],\n",
       "        [-0.541, -0.532, -0.515, -0.481, -0.416, -0.322, -0.219, -0.127,\n",
       "         -0.05 ,  0.019,  0.092,  0.182,  0.295,  0.415,  0.566,  0.736],\n",
       "        [-0.541, -0.534, -0.519, -0.484, -0.407, -0.268, -0.057,  0.195,\n",
       "          0.437,  0.631,  0.77 ,  0.882,  0.982,  1.081,  1.198,  1.33 ],\n",
       "        [-0.521, -0.526, -0.52 , -0.493, -0.423, -0.282, -0.05 ,  0.27 ,\n",
       "          0.635,  0.98 ,  1.248,  1.435,  1.57 ,  1.678,  1.78 ,  1.88 ],\n",
       "        [-0.495, -0.494, -0.493, -0.479, -0.426, -0.3  , -0.074,  0.254,\n",
       "          0.656,  1.086,  1.476,  1.786,  2.007,  2.157,  2.27 ,  2.373],\n",
       "        [-0.485, -0.481, -0.473, -0.454, -0.408, -0.305, -0.108,  0.195,\n",
       "          0.59 ,  1.04 ,  1.495,  1.915,  2.244,  2.484,  2.653,  2.782],\n",
       "        [-0.478, -0.468, -0.457, -0.439, -0.394, -0.294, -0.116,  0.152,\n",
       "          0.513,  0.948,  1.427,  1.903,  2.329,  2.672,  2.922,  3.098],\n",
       "        [-0.482, -0.469, -0.452, -0.428, -0.384, -0.294, -0.129,  0.126,\n",
       "          0.466,  0.877,  1.343,  1.839,  2.316,  2.748,  3.094,  3.345],\n",
       "        [-0.484, -0.472, -0.454, -0.426, -0.378, -0.289, -0.136,  0.1  ,\n",
       "          0.43 ,  0.835,  1.293,  1.774,  2.27 ,  2.757,  3.186,  3.52 ],\n",
       "        [-0.477, -0.467, -0.449, -0.422, -0.377, -0.293, -0.145,  0.082,\n",
       "          0.401,  0.806,  1.271,  1.758,  2.253,  2.759,  3.236,  3.645],\n",
       "        [-0.467, -0.458, -0.44 , -0.41 , -0.364, -0.285, -0.149,  0.072,\n",
       "          0.391,  0.804,  1.273,  1.768,  2.274,  2.781,  3.285,  3.746],\n",
       "        [-0.445, -0.44 , -0.425, -0.394, -0.343, -0.264, -0.137,  0.071,\n",
       "          0.388,  0.803,  1.276,  1.785,  2.31 ,  2.831,  3.353,  3.84 ],\n",
       "        [-0.433, -0.422, -0.404, -0.37 , -0.311, -0.222, -0.09 ,  0.118,\n",
       "          0.427,  0.841,  1.318,  1.831,  2.362,  2.897,  3.435,  3.941],\n",
       "        [-0.429, -0.419, -0.399, -0.36 , -0.287, -0.179, -0.033,  0.175,\n",
       "          0.478,  0.885,  1.363,  1.882,  2.419,  2.97 ,  3.522,  4.042],\n",
       "        [-0.425, -0.413, -0.394, -0.358, -0.283, -0.153,  0.03 ,  0.268,\n",
       "          0.582,  0.98 ,  1.449,  1.962,  2.495,  3.047,  3.603,  4.133],\n",
       "        [-0.428, -0.415, -0.396, -0.36 , -0.288, -0.157,  0.051,  0.34 ,\n",
       "          0.693,  1.097,  1.553,  2.049,  2.57 ,  3.114,  3.666,  4.195],\n",
       "        [-0.425, -0.415, -0.398, -0.365, -0.298, -0.17 ,  0.04 ,  0.349,\n",
       "          0.747,  1.192,  1.655,  2.138,  2.641,  3.164,  3.699,  4.214],\n",
       "        [-0.423, -0.412, -0.395, -0.366, -0.307, -0.189,  0.015,  0.318,\n",
       "          0.714,  1.181,  1.679,  2.177,  2.674,  3.179,  3.689,  4.182],\n",
       "        [-0.424, -0.41 , -0.392, -0.366, -0.313, -0.209, -0.021,  0.268,\n",
       "          0.652,  1.109,  1.611,  2.132,  2.647,  3.149,  3.642,  4.114],\n",
       "        [-0.423, -0.41 , -0.393, -0.366, -0.316, -0.22 , -0.046,  0.225,\n",
       "          0.59 ,  1.028,  1.514,  2.033,  2.564,  3.081,  3.572,  4.036],\n",
       "        [-0.425, -0.413, -0.395, -0.367, -0.319, -0.23 , -0.068,  0.187,\n",
       "          0.532,  0.953,  1.427,  1.937,  2.469,  2.997,  3.5  ,  3.966],\n",
       "        [-0.418, -0.407, -0.39 , -0.363, -0.315, -0.229, -0.078,  0.164,\n",
       "          0.496,  0.904,  1.368,  1.873,  2.401,  2.931,  3.442,  3.915],\n",
       "        [-0.404, -0.393, -0.376, -0.35 , -0.305, -0.221, -0.076,  0.154,\n",
       "          0.478,  0.879,  1.336,  1.835,  2.359,  2.888,  3.404,  3.882],\n",
       "        [-0.374, -0.367, -0.354, -0.33 , -0.287, -0.207, -0.068,  0.155,\n",
       "          0.475,  0.875,  1.328,  1.824,  2.344,  2.869,  3.385,  3.863],\n",
       "        [-0.319, -0.311, -0.3  , -0.281, -0.243, -0.169, -0.035,  0.181,\n",
       "          0.496,  0.891,  1.34 ,  1.834,  2.348,  2.863,  3.373,  3.841],\n",
       "        [-0.264, -0.251, -0.235, -0.211, -0.174, -0.106,  0.016,  0.215,\n",
       "          0.509,  0.896,  1.35 ,  1.84 ,  2.348,  2.859,  3.349,  3.793],\n",
       "        [-0.231, -0.203, -0.172, -0.137, -0.09 , -0.017,  0.101,  0.287,\n",
       "          0.565,  0.936,  1.376,  1.855,  2.347,  2.837,  3.295,  3.704],\n",
       "        [-0.233, -0.194, -0.15 , -0.1  , -0.035,  0.055,  0.186,  0.374,\n",
       "          0.637,  0.983,  1.403,  1.865,  2.335,  2.791,  3.207,  3.577],\n",
       "        [-0.276, -0.23 , -0.177, -0.113, -0.032,  0.076,  0.223,  0.422,\n",
       "          0.678,  1.004,  1.404,  1.847,  2.293,  2.716,  3.091,  3.427],\n",
       "        [-0.326, -0.277, -0.219, -0.149, -0.061,  0.058,  0.218,  0.429,\n",
       "          0.694,  1.015,  1.392,  1.808,  2.228,  2.618,  2.96 ,  3.27 ],\n",
       "        [-0.386, -0.346, -0.292, -0.22 , -0.129, -0.008,  0.158,  0.381,\n",
       "          0.659,  0.986,  1.354,  1.75 ,  2.145,  2.51 ,  2.825,  3.116],\n",
       "        [-0.426, -0.398, -0.355, -0.295, -0.21 , -0.094,  0.069,  0.298,\n",
       "          0.592,  0.932,  1.299,  1.68 ,  2.057,  2.4  ,  2.695,  2.971],\n",
       "        [-0.451, -0.434, -0.405, -0.357, -0.283, -0.173, -0.013,  0.214,\n",
       "          0.517,  0.869,  1.24 ,  1.612,  1.971,  2.293,  2.572,  2.837],\n",
       "        [-0.46 , -0.452, -0.436, -0.404, -0.347, -0.253, -0.104,  0.119,\n",
       "          0.425,  0.792,  1.175,  1.545,  1.889,  2.194,  2.459,  2.716],\n",
       "        [-0.464, -0.461, -0.452, -0.434, -0.395, -0.32 , -0.188,  0.027,\n",
       "          0.34 ,  0.72 ,  1.114,  1.479,  1.812,  2.103,  2.357,  2.607],\n",
       "        [-0.466, -0.464, -0.459, -0.447, -0.424, -0.372, -0.262, -0.062,\n",
       "          0.25 ,  0.644,  1.049,  1.418,  1.742,  2.02 ,  2.266,  2.511],\n",
       "        [-0.467, -0.465, -0.461, -0.453, -0.438, -0.404, -0.325, -0.157,\n",
       "          0.139,  0.542,  0.97 ,  1.353,  1.676,  1.948,  2.187,  2.428],\n",
       "        [-0.468, -0.466, -0.462, -0.456, -0.444, -0.418, -0.36 , -0.228,\n",
       "          0.033,  0.431,  0.881,  1.285,  1.613,  1.884,  2.12 ,  2.359],\n",
       "        [-0.468, -0.466, -0.463, -0.457, -0.447, -0.426, -0.381, -0.279,\n",
       "         -0.057,  0.322,  0.783,  1.208,  1.551,  1.824,  2.061,  2.296],\n",
       "        [-0.468, -0.467, -0.464, -0.458, -0.448, -0.43 , -0.391, -0.305,\n",
       "         -0.121,  0.222,  0.681,  1.124,  1.482,  1.764,  2.005,  2.238],\n",
       "        [-0.468, -0.467, -0.465, -0.459, -0.45 , -0.432, -0.396, -0.321,\n",
       "         -0.159,  0.149,  0.587,  1.038,  1.412,  1.703,  1.951,  2.185],\n",
       "        [-0.468, -0.467, -0.465, -0.461, -0.453, -0.436, -0.402, -0.332,\n",
       "         -0.188,  0.089,  0.503,  0.956,  1.343,  1.646,  1.901,  2.137],\n",
       "        [-0.467, -0.465, -0.463, -0.459, -0.452, -0.437, -0.405, -0.34 ,\n",
       "         -0.205,  0.05 ,  0.441,  0.885,  1.28 ,  1.594,  1.858,  2.096],\n",
       "        [-0.466, -0.463, -0.46 , -0.456, -0.449, -0.435, -0.407, -0.346,\n",
       "         -0.217,  0.029,  0.403,  0.838,  1.234,  1.555,  1.824,  2.06 ],\n",
       "        [-0.467, -0.463, -0.457, -0.448, -0.438, -0.422, -0.397, -0.346,\n",
       "         -0.233, -0.014,  0.328,  0.745,  1.149,  1.488,  1.762,  1.98 ],\n",
       "        [-0.471, -0.469, -0.465, -0.456, -0.44 , -0.415, -0.379, -0.322,\n",
       "         -0.221, -0.032,  0.277,  0.678,  1.081,  1.415,  1.667,  1.857],\n",
       "        [-0.472, -0.472, -0.47 , -0.467, -0.459, -0.439, -0.395, -0.319,\n",
       "         -0.2  , -0.015,  0.269,  0.638,  1.006,  1.304,  1.52 ,  1.685],\n",
       "        [-0.473, -0.472, -0.472, -0.471, -0.468, -0.459, -0.435, -0.371,\n",
       "         -0.237, -0.024,  0.259,  0.587,  0.891,  1.132,  1.325,  1.496],\n",
       "        [-0.474, -0.473, -0.473, -0.472, -0.471, -0.466, -0.453, -0.415,\n",
       "         -0.314, -0.111,  0.175,  0.47 ,  0.722,  0.929,  1.116,  1.309],\n",
       "        [-0.474, -0.474, -0.474, -0.474, -0.473, -0.47 , -0.461, -0.437,\n",
       "         -0.37 , -0.217,  0.03 ,  0.3  ,  0.531,  0.725,  0.916,  1.136],\n",
       "        [-0.476, -0.475, -0.475, -0.475, -0.475, -0.472, -0.466, -0.449,\n",
       "         -0.403, -0.295, -0.104,  0.129,  0.343,  0.537,  0.739,  0.981],\n",
       "        [-0.477, -0.477, -0.477, -0.477, -0.476, -0.475, -0.47 , -0.458,\n",
       "         -0.426, -0.349, -0.207, -0.019,  0.176,  0.37 ,  0.585,  0.85 ],\n",
       "        [-0.478, -0.478, -0.478, -0.478, -0.478, -0.477, -0.473, -0.464,\n",
       "         -0.44 , -0.385, -0.28 , -0.129,  0.045,  0.237,  0.466,  0.743],\n",
       "        [-0.48 , -0.48 , -0.48 , -0.48 , -0.48 , -0.478, -0.474, -0.466,\n",
       "         -0.448, -0.406, -0.328, -0.209, -0.052,  0.144,  0.378,  0.652],\n",
       "        [-0.483, -0.483, -0.483, -0.482, -0.482, -0.481, -0.477, -0.468,\n",
       "         -0.449, -0.412, -0.349, -0.249, -0.104,  0.079,  0.298,  0.561],\n",
       "        [-0.486, -0.486, -0.486, -0.486, -0.485, -0.485, -0.482, -0.474,\n",
       "         -0.454, -0.418, -0.359, -0.269, -0.142,  0.018,  0.216,  0.469],\n",
       "        [-0.49 , -0.49 , -0.49 , -0.49 , -0.49 , -0.489, -0.487, -0.482,\n",
       "         -0.466, -0.434, -0.377, -0.293, -0.186, -0.051,  0.131,  0.37 ],\n",
       "        [-0.495, -0.495, -0.495, -0.495, -0.495, -0.494, -0.493, -0.489,\n",
       "         -0.479, -0.454, -0.405, -0.332, -0.241, -0.122,  0.051,  0.279],\n",
       "        [-0.501, -0.501, -0.501, -0.501, -0.501, -0.501, -0.5  , -0.497,\n",
       "         -0.49 , -0.472, -0.434, -0.375, -0.296, -0.188, -0.028,  0.193]]))"
      ]
     },
     "execution_count": 7,
     "metadata": {},
     "output_type": "execute_result"
    }
   ],
   "source": [
    "opacity = []\n",
    "for i in opacity_table:\n",
    "    temp=[]\n",
    "    for j in i:\n",
    "        temp.append(j)\n",
    "    opacity.append(temp)\n",
    "opacity=np.array(opacity)\n",
    "np.shape(opacity),opacity"
   ]
  },
  {
   "cell_type": "code",
   "execution_count": null,
   "id": "c302cd9d",
   "metadata": {},
   "outputs": [],
   "source": []
  },
  {
   "cell_type": "markdown",
   "id": "e078c60e",
   "metadata": {},
   "source": [
    "# Interpolate opacity table"
   ]
  },
  {
   "cell_type": "code",
   "execution_count": 8,
   "id": "32ac20bd",
   "metadata": {},
   "outputs": [],
   "source": [
    "def get_opacity(T,rho):\n",
    "    \"\"\"Return opacity from interpolated opacity table\"\"\"\n",
    "    f = RectBivariateSpline(logT_tab, logR_tab, opacity)\n",
    "    \n",
    "    #R=density[g/cm**3]/T6**3, T6=1.e-6*T[degrees]\n",
    "    logR = np.log10(rho/((T*1e-6)**3))\n",
    "    log_op = f.ev(np.log10(T), logR)\n",
    "    op = 10**log_op\n",
    "    return op"
   ]
  },
  {
   "cell_type": "code",
   "execution_count": null,
   "id": "93b2bb8b",
   "metadata": {},
   "outputs": [],
   "source": []
  },
  {
   "cell_type": "markdown",
   "id": "727d9d11",
   "metadata": {},
   "source": [
    "# Energy generation rates"
   ]
  },
  {
   "cell_type": "code",
   "execution_count": 9,
   "id": "b1a30396",
   "metadata": {},
   "outputs": [],
   "source": [
    "def get_e(rho, T):\n",
    "    \"\"\"Return energy generation from pp-chain and CNO cycle given density, temperature\"\"\"\n",
    "    #pp chain from eqn 18.63 in Stellar Structure and Evolution (Second Edition)\n",
    "    if T<1e7:\n",
    "        psi = 1\n",
    "    else:\n",
    "        psi = 1.5\n",
    "\n",
    "    Z_1 = 1\n",
    "    Z_2 = 1\n",
    "    zeta = 1\n",
    "    T7 = T/(1e7)\n",
    "    f_11 = np.exp(5.92*10**(-3)*Z_1*Z_2*(zeta*rho/(T7**3))**(1/2))\n",
    "    T9 = T/(1e9)\n",
    "    g_11 = (1+3.82*T9 + 1.51*T9**2 + 0.144*T9**3 - 0.0114*T9**4)\n",
    "    e_pp = 2.57*10**4*psi*f_11*g_11*rho*X**2*T9**(-2/3)*np.exp(-3.381/(T9**(1/3)))\n",
    "\n",
    "    #CNO from eqn 18.65 in Stellar Structure and Evolution (Second Edition)\n",
    "    X_cno = 0.7*Z \n",
    "    g_14_1 = 1 - 2.00*T9 + 3.41*T9**2 - 2.43*T9**3\n",
    "    e_cno = 8.24*10**25*g_14_1*X_cno*X*rho*T9**(-2/3)*np.exp(-15.231*T9**(-1/3) - (T9/0.8)**2)\n",
    "    \n",
    "    return e_cno + e_pp"
   ]
  },
  {
   "cell_type": "code",
   "execution_count": null,
   "id": "0f974594",
   "metadata": {},
   "outputs": [],
   "source": []
  },
  {
   "cell_type": "markdown",
   "id": "7b906e46",
   "metadata": {},
   "source": [
    "# E.O.S."
   ]
  },
  {
   "cell_type": "code",
   "execution_count": 11,
   "id": "b119a868",
   "metadata": {},
   "outputs": [],
   "source": [
    "#calculate density given pressure P, temperature, and composition (i.e., the equation of state) assuming complete \n",
    "#ionization (include the effect of radiation pressure)\n",
    "\n",
    "def get_rho(P,T):\n",
    "    \"\"\"Calculate density given pressure and temperature (with fixed composition). Using an equation of state \n",
    "    that includes ideal gas pressure and radiation pressure (assuming complete ionization).\"\"\"\n",
    "    rho = (P - (1/3)*a*T**4)*(mu*m_H)/(k*T)\n",
    "    return rho"
   ]
  },
  {
   "cell_type": "code",
   "execution_count": null,
   "id": "43d360c2",
   "metadata": {},
   "outputs": [],
   "source": []
  },
  {
   "cell_type": "markdown",
   "id": "365dbc9d",
   "metadata": {},
   "source": [
    "# Shoot for a solution"
   ]
  },
  {
   "cell_type": "code",
   "execution_count": 12,
   "id": "cb3ed9f6",
   "metadata": {},
   "outputs": [],
   "source": [
    "def get_del(P,l,T,m):\n",
    "    \"\"\"Return value of del by determine del_ad and del_rad and comparing their values.\"\"\"\n",
    "    del_rad = 3*P*get_opacity(T,get_rho(P,T))*l/(16*np.pi*a*c*T**4*G*m)\n",
    "    del_ad = 0.4 #(Gamma_2 - 1)/Gamma_2\n",
    "    if del_rad <= del_ad:\n",
    "        del_final = del_rad\n",
    "    else:\n",
    "        del_final = del_ad\n",
    "    return del_final\n",
    "\n",
    "def derivs(m, ics):\n",
    "    \"\"\"Return derivatives of l,P,r,T with dependent variable m (four equations of stellar structure).\"\"\"\n",
    "    l, P, r, T = ics\n",
    "    dl_dm = get_e(get_rho(P,T), T)\n",
    "    dP_dm = -G*m/(4*np.pi*r**4)\n",
    "    dr_dm = 1/(4*np.pi*r**2*get_rho(P,T))\n",
    "    dT_dm = -G*m*T*get_del(P,l,T,m)/(4*np.pi*r**4*P)\n",
    "    return dl_dm, dP_dm, dr_dm, dT_dm"
   ]
  },
  {
   "cell_type": "code",
   "execution_count": 13,
   "id": "f830f881",
   "metadata": {},
   "outputs": [],
   "source": [
    "def load1(T_c,P_c,L_star,R_star):\n",
    "    \"\"\"Give boundary conditions at center (a point just outside the star's center)\"\"\"\n",
    "    r = (3/(4*np.pi*get_rho(P_c,T_c)))**(1/3)*dm**(1/3)\n",
    "    l = get_e(get_rho(P_c,T_c), T_c)*dm \n",
    "    P = P_c - (3*G/(8*np.pi))*(4*np.pi*get_rho(P_c,T_c)/3)**(4/3)*dm**(2/3)\n",
    "    if 3*P*get_opacity(T_c,get_rho(P,T_c))*l/(16*np.pi*a*c*T_c**4*G*dm)>0.4:\n",
    "        T = np.exp(np.log(T_c) - (np.pi/6)**(1/3)*G*(0.4*get_rho(P_c,T_c)**(4/3)/P_c)*dm**(2/3))\n",
    "    else:\n",
    "        rho_c = get_rho(P_c,T_c)\n",
    "        e_c = get_e(rho_c,T_c)\n",
    "        T = (T_c**4 - (1/(2*a*c)) *(3/(4*np.pi))**(2/3) *get_opacity(T_c, rho_c) *e_c*rho_c**(4/3)*dm**(2/3))**(1/4)\n",
    "    return l,P,r,T\n",
    "    \n",
    "\n",
    "def load2(T_c,P_c,L_star,R_star):\n",
    "    \"\"\"Give boundary conditions at surface\"\"\"\n",
    "    T = (L_star/(4*np.pi*R_star**2*sb))**(1/4)\n",
    "    rho = get_rho(P_c,T)\n",
    "    P = 2*G*M/(3*R_star**2*get_opacity(T, rho))\n",
    "    return L_star,P,R_star,T\n"
   ]
  },
  {
   "cell_type": "code",
   "execution_count": null,
   "id": "dd104279",
   "metadata": {},
   "outputs": [],
   "source": []
  },
  {
   "cell_type": "markdown",
   "id": "5a1e2806",
   "metadata": {},
   "source": [
    "# Solve derivatives"
   ]
  },
  {
   "cell_type": "code",
   "execution_count": 15,
   "id": "7ce404c2",
   "metadata": {},
   "outputs": [],
   "source": [
    "def fun(ic_scales, x):\n",
    "    \"\"\"Returns expression to minimize differences between l,P,r,T at M/s\"\"\"\n",
    "    T_c,P_c,L_star,R_star = x*ic_scales\n",
    "    l_cent, P_cent, r_cent, T_cent = load1(T_c,P_c,L_star,R_star)\n",
    "    l_surf, P_surf, r_surf, T_surf = load2(T_c,P_c,L_star,R_star)\n",
    "    result = solve_ivp(derivs,[dm,M/2],[l_cent, P_cent, r_cent, T_cent])\n",
    "    l = result.y[0][-1]\n",
    "    P = result.y[1][-1]\n",
    "    r = result.y[2][-1]\n",
    "    T = result.y[3][-1]\n",
    "    result2 = solve_ivp(derivs,[M,M/2],[l_surf, P_surf, r_surf, T_surf])\n",
    "    l2 = result2.y[0][-1]\n",
    "    P2 = result2.y[1][-1]\n",
    "    r2 = result2.y[2][-1]\n",
    "    T2 = result2.y[3][-1]\n",
    "    scale = (result2.y[:, 0] - result.y[:, 0])\n",
    "    return ((l-l2)/scale[0])**2 + ((P-P2)/scale[1])**2 + ((r-r2)/scale[2])**2 + ((T-T2)/scale[3])**2"
   ]
  },
  {
   "cell_type": "code",
   "execution_count": null,
   "id": "7e32524d",
   "metadata": {},
   "outputs": [],
   "source": []
  },
  {
   "cell_type": "code",
   "execution_count": 16,
   "id": "26bda404",
   "metadata": {},
   "outputs": [
    {
     "data": {
      "text/plain": [
       "array([1.08265404, 1.24350772, 1.07494021, 0.83772407])"
      ]
     },
     "execution_count": 16,
     "metadata": {},
     "output_type": "execute_result"
    }
   ],
   "source": [
    "#Set initial guesses\n",
    "L_star = (M_solar)**3.5*Ls\n",
    "R_star = (M_solar)**0.75*Rs\n",
    "T_c = M_solar**0.22*1.6e7\n",
    "P_c = ((1/3)*a*T_c**4 + 162*M_solar**(-1.33)*k*T_c/(mu*m_H))\n",
    "\n",
    "#Set value for mass slightly away from center\n",
    "dm=1e-5\n",
    "\n",
    "#Minimize function\n",
    "ic_scales=[1,1,1,1]\n",
    "bound_arr = np.array([[0.3]*4, [2]*4]).T\n",
    "res = minimize(fun, x0=ic_scales, args=[T_c,P_c,L_star,R_star], bounds=bound_arr, method='L-BFGS-B')\n",
    "res.x  \n"
   ]
  },
  {
   "cell_type": "code",
   "execution_count": 17,
   "id": "9fe937d7",
   "metadata": {},
   "outputs": [
    {
     "data": {
      "text/plain": [
       "(      fun: 0.0005372501530595085\n",
       "  hess_inv: <4x4 LbfgsInvHessProduct with dtype=float64>\n",
       "       jac: array([ 1.27471738e+02, -1.01876007e-03, -4.02478682e-04, -2.97610622e-04])\n",
       "   message: 'CONVERGENCE: REL_REDUCTION_OF_F_<=_FACTR*EPSMCH'\n",
       "      nfev: 480\n",
       "       nit: 31\n",
       "      njev: 96\n",
       "    status: 0\n",
       "   success: True\n",
       "         x: array([1.08265404, 1.24350772, 1.07494021, 0.83772407]),\n",
       " 18635737.383495294,\n",
       " 1.6138096038493126e+17,\n",
       " 4.32862487171157e+34,\n",
       " 117052781003.31706)"
      ]
     },
     "execution_count": 17,
     "metadata": {},
     "output_type": "execute_result"
    }
   ],
   "source": [
    "#Check values, convergence, and number of iterations\n",
    "res, T_c,P_c,L_star,R_star"
   ]
  },
  {
   "cell_type": "code",
   "execution_count": 18,
   "id": "2c99f229",
   "metadata": {},
   "outputs": [
    {
     "name": "stdout",
     "output_type": "stream",
     "text": [
      "18635737.383495294 1.6138096038493126e+17 4.32862487171157e+34 117052781003.31706\n",
      "20176056.33442483 2.006784694770129e+17 4.653012917744822e+34 98057931957.24261\n"
     ]
    }
   ],
   "source": [
    "print('Initial guesses: ', T_c,P_c,L_star,R_star)\n",
    "T_c,P_c,L_star,R_star = [T_c,P_c,L_star,R_star]*res.x\n",
    "print('Best fits: ', T_c,P_c,L_star,R_star)\n",
    "\n",
    "#get values for best fit\n",
    "l_cent, P_cent, r_cent, T_cent = load1(T_c,P_c,L_star,R_star)\n",
    "l_surf, P_surf, r_surf, T_surf = load2(T_c,P_c,L_star,R_star)\n",
    "result = solve_ivp(derivs,[dm,M/2],[l_cent, P_cent, r_cent, T_cent])\n",
    "l = result.y[0][-1]\n",
    "P = result.y[1][-1]\n",
    "r = result.y[2][-1]\n",
    "T = result.y[3][-1]\n",
    "result2 = solve_ivp(derivs,[M,M/2],[l_surf, P_surf, r_surf, T_surf])\n",
    "l2 = result2.y[0][-1]\n",
    "P2 = result2.y[1][-1]\n",
    "r2 = result2.y[2][-1]\n",
    "T2 = result2.y[3][-1]"
   ]
  },
  {
   "cell_type": "code",
   "execution_count": 30,
   "id": "b50f5545",
   "metadata": {},
   "outputs": [
    {
     "data": {
      "image/png": "[encoded data removed]",
      "text/plain": [
       "<Figure size 720x720 with 4 Axes>"
      ]
     },
     "metadata": {
      "needs_background": "light"
     },
     "output_type": "display_data"
    }
   ],
   "source": [
    "#Plot L,P,R,T as function of mass for best fit solution\n",
    "fig, ((ax1, ax2), (ax3, ax4)) = plt.subplots(2, 2, figsize=(10,10))\n",
    "ax1.scatter(result2.t/Ms,result2.y[0]/Ls, label='Integration from surface in')\n",
    "ax1.scatter(result.t/Ms,result.y[0]/Ls, label='Integration from center out')\n",
    "ax1.set_ylabel(r'Luminosity ($L_\\odot$)')\n",
    "ax1.set_xlabel(r'Mass ($M_\\odot$)')\n",
    "ax1.legend() \n",
    "\n",
    "ax2.scatter(result2.t/Ms,result2.y[1])\n",
    "ax2.scatter(result.t/Ms,result.y[1])\n",
    "ax2.set_ylabel(r'Pressure ($dyn/cm^2$)')\n",
    "ax2.set_xlabel(r'Mass ($M_\\odot$)')\n",
    "\n",
    "ax3.scatter(result2.t/Ms,result2.y[2]/Rs)\n",
    "ax3.scatter(result.t/Ms,result.y[2]/Rs)\n",
    "ax3.set_ylabel(r'Radius ($R_\\odot$)')\n",
    "ax3.set_xlabel(r'Mass ($M_\\odot$)')\n",
    "\n",
    "ax4.scatter(result2.t/Ms,result2.y[3])\n",
    "ax4.scatter(result.t/Ms,result.y[3])\n",
    "ax4.set_ylabel('Temperaure (K)')\n",
    "ax4.set_xlabel(r'Mass ($M_\\odot$)')\n",
    "\n",
    "fig.tight_layout()\n",
    "\n",
    "plt.savefig('./figs/converged_soln.png',bbox_inches='tight')\n",
    "plt.show()"
   ]
  },
  {
   "cell_type": "code",
   "execution_count": null,
   "id": "c9e1336d",
   "metadata": {},
   "outputs": [],
   "source": []
  },
  {
   "cell_type": "code",
   "execution_count": null,
   "id": "59a49d5c",
   "metadata": {},
   "outputs": [],
   "source": []
  },
  {
   "cell_type": "code",
   "execution_count": 36,
   "id": "5539bf37",
   "metadata": {},
   "outputs": [],
   "source": [
    "#Construct table with values\n",
    "\n",
    "e_final = np.zeros_like(result.t)\n",
    "opacity_final = np.zeros_like(result.t)\n",
    "del_final = np.zeros_like(result.t)\n",
    "del_ad_final = np.full(len(result.t), 0.4) \n",
    "\n",
    "for i,P,T,L,M in zip(range(len(e_final)), result.y[1], result.y[3],result.y[0], result.t):\n",
    "    rho = get_rho(P,T)\n",
    "    e_final[i] = get_e(rho,T)\n",
    "    opacity_final[i] = get_opacity(T,rho)\n",
    "    del_final[i] = 3*P*get_opacity(T,rho)*L/(16*np.pi*a*c*T**4*G*M)\n",
    "\n",
    "shell = np.full(len(result.t), 'Convective')\n",
    "shell[del_final<=del_ad_final] = 'Radiative'\n",
    "\n",
    "tab1 = Table([result.t/Ms, result.y[2]/Rs, get_rho(result.y[1], result.y[3]), result.y[3], result.y[1], \n",
    "              result.y[0]/Ls, e_final, opacity_final, del_ad_final, del_final, shell],\n",
    "      names=[r'Mass ($M_\\odot$)', 'Radius ($R_\\odot$)', r'Density ($g/cm^3$)', 'Temperature (K)', \n",
    "             r'Pressure ($dyn/cm^2$)', r'Luminosity ($L_\\odot$)', r'Nuclear energy generation rate $\\epsilon$', \n",
    "             'Opacity', r'$\\nabla_{ad}$', r'$\\nabla$', 'Radiative/Convective'])\n",
    "\n",
    "e_final2 = np.zeros_like(result2.t)\n",
    "opacity_final2 = np.zeros_like(result2.t)\n",
    "del_final2 = np.zeros_like(result2.t)\n",
    "del_ad_final2 = np.full(len(result2.t), 0.4) \n",
    "\n",
    "for i,P,T,L,M in zip(range(len(e_final2)), result2.y[1], result2.y[3],result2.y[0], result2.t):\n",
    "    rho = get_rho(P,T)\n",
    "    e_final2[i] = get_e(rho,T)\n",
    "    opacity_final2[i] = get_opacity(T,rho)\n",
    "    del_final2[i] = 3*P*get_opacity(T,rho)*L/(16*np.pi*a*c*T**4*G*M)\n",
    "\n",
    "shell2 = np.full(len(result2.t), 'Convective')\n",
    "shell2[del_final2<=del_ad_final2] = 'Radiative'\n",
    "\n",
    "tab2 = Table([result2.t/Ms, result2.y[2]/Rs, get_rho(result2.y[1], result2.y[3]), result2.y[3], result2.y[1], \n",
    "              result2.y[0]/Ls, e_final2, opacity_final2, del_ad_final2, del_final2, shell2],\n",
    "      names=[r'Mass ($M_\\odot$)', 'Radius ($R_\\odot$)', r'Density ($g/cm^3$)', 'Temperature (K)', \n",
    "             r'Pressure ($dyn/cm^2$)', r'Luminosity ($L_\\odot$)', r'Nuclear energy generation rate $\\epsilon$', \n",
    "             'Opacity', r'$\\nabla_{ad}$', r'$\\nabla$', 'Radiative/Convective'])\n",
    "tab2.reverse()\n",
    "final_table = vstack([tab1,tab2])"
   ]
  },
  {
   "cell_type": "code",
   "execution_count": 37,
   "id": "dcb213b9",
   "metadata": {},
   "outputs": [
    {
     "data": {
      "text/html": [
       "<div><i>Table length=10</i>\n",
       "<table id=\"table140535222579720\" class=\"table-striped table-bordered table-condensed\">\n",
       "<thead><tr><th>Mass ($M_\\odot$)</th><th>Radius ($R_\\odot$)</th><th>Density ($g/cm^3$)</th><th>Temperature (K)</th><th>Pressure ($dyn/cm^2$)</th><th>Luminosity ($L_\\odot$)</th><th>Nuclear energy generation rate $\\epsilon$</th><th>Opacity</th><th>$\\nabla_{ad}$</th><th>$\\nabla$</th><th>Radiative/Convective</th></tr></thead>\n",
       "<thead><tr><th>float64</th><th>float64</th><th>float64</th><th>float64</th><th>float64</th><th>float64</th><th>float64</th><th>float64</th><th>float64</th><th>float64</th><th>str10</th></tr></thead>\n",
       "<tr><td>5.027652086475616e-39</td><td>4.573920252998607e-14</td><td>73.99764643905195</td><td>20176056.334424842</td><td>2.006784694770129e+17</td><td>7.281774769712973e-37</td><td>278.60070268922095</td><td>0.6324288790611587</td><td>0.4</td><td>0.8415885946364497</td><td>Convective</td></tr>\n",
       "<tr><td>1.796178714434232e-32</td><td>6.8451465940033435e-12</td><td>73.99764643905195</td><td>20176056.334424842</td><td>2.006784694770129e+17</td><td>2.6014864632034304e-30</td><td>278.60070268922095</td><td>0.6324288790611587</td><td>0.4</td><td>0.8415885946364577</td><td>Convective</td></tr>\n",
       "<tr><td>2.955263046707119e-26</td><td>8.208843809651737e-10</td><td>73.99764643905195</td><td>20176056.334424842</td><td>2.006784694770129e+17</td><td>4.280240462394924e-24</td><td>278.60070268922095</td><td>0.6324288790611587</td><td>0.4</td><td>0.8415885946364576</td><td>Convective</td></tr>\n",
       "<tr><td>1.1121682019717442e-19</td><td>1.2702500363006818e-07</td><td>73.99764643903896</td><td>20176056.334422465</td><td>2.0067846947695395e+17</td><td>1.6108032563691836e-17</td><td>278.60070268872516</td><td>0.6324288790612214</td><td>0.4</td><td>0.8415885946357838</td><td>Convective</td></tr>\n",
       "<tr><td>2.376895903599247e-13</td><td>1.6271793312363247e-05</td><td>73.9976462265131</td><td>20176056.295710433</td><td>2.0067846851434368e+17</td><td>3.4425652418485227e-11</td><td>278.60069460828015</td><td>0.6324288800747443</td><td>0.4</td><td>0.8415885838176193</td><td>Convective</td></tr>\n",
       "<tr><td>9.735936665164184e-07</td><td>0.0025752545600275607</td><td>73.99253252225796</td><td>20175124.805195484</td><td>2.0065530706607827e+17</td><td>0.00014094548110755743</td><td>278.4063375960626</td><td>0.6324532686350832</td><td>0.4</td><td>0.8412945178437862</td><td>Convective</td></tr>\n",
       "<tr><td>0.28853102271117814</td><td>0.19102143050714032</td><td>48.99086127467049</td><td>15376261.713816203</td><td>1.0118418200959117e+17</td><td>9.567993355284624</td><td>20.94152022365477</td><td>0.7984955786331673</td><td>0.4</td><td>0.36363938256235356</td><td>Radiative</td></tr>\n",
       "<tr><td>1.996614620659809</td><td>1.0379266010075932</td><td>0.019958744733575968</td><td>1570857.6097607168</td><td>4220793579420.3164</td><td>12.161560161380457</td><td>4.43165518900852e-09</td><td>7.173724165010455</td><td>0.4</td><td>0.22979841127902265</td><td>Radiative</td></tr>\n",
       "<tr><td>1.9999995296319164</td><td>1.3582112996335318</td><td>9.171648134061788e-06</td><td>192357.5245637759</td><td>240097581.54026797</td><td>12.16156016138218</td><td>1.2777150270493805e-24</td><td>30.840556439583647</td><td>0.4</td><td>0.24951297931244223</td><td>Radiative</td></tr>\n",
       "<tr><td>1.9999999999418316</td><td>1.4054924534424882</td><td>1.0331653496025514e-08</td><td>19443.882237132668</td><td>27306.403488791017</td><td>12.16156016138218</td><td>4.496201115583053e-56</td><td>26.02613445280319</td><td>0.4</td><td>0.22938341344377253</td><td>Radiative</td></tr>\n",
       "</table></div>"
      ],
      "text/plain": [
       "<Table length=10>\n",
       "   Mass ($M_\\odot$)      Radius ($R_\\odot$)   ... Radiative/Convective\n",
       "       float64                float64         ...        str10        \n",
       "---------------------- ---------------------- ... --------------------\n",
       " 5.027652086475616e-39  4.573920252998607e-14 ...           Convective\n",
       " 1.796178714434232e-32 6.8451465940033435e-12 ...           Convective\n",
       " 2.955263046707119e-26  8.208843809651737e-10 ...           Convective\n",
       "1.1121682019717442e-19 1.2702500363006818e-07 ...           Convective\n",
       " 2.376895903599247e-13 1.6271793312363247e-05 ...           Convective\n",
       " 9.735936665164184e-07  0.0025752545600275607 ...           Convective\n",
       "   0.28853102271117814    0.19102143050714032 ...            Radiative\n",
       "     1.996614620659809     1.0379266010075932 ...            Radiative\n",
       "    1.9999995296319164     1.3582112996335318 ...            Radiative\n",
       "    1.9999999999418316     1.4054924534424882 ...            Radiative"
      ]
     },
     "execution_count": 37,
     "metadata": {},
     "output_type": "execute_result"
    }
   ],
   "source": [
    "final_table[::15]"
   ]
  },
  {
   "cell_type": "code",
   "execution_count": 24,
   "id": "17dfb85c",
   "metadata": {},
   "outputs": [
    {
     "data": {
      "text/html": [
       "<div><i>Table length=50</i>\n",
       "<table id=\"table140536587442440\" class=\"table-striped table-bordered table-condensed\">\n",
       "<thead><tr><th>Mass ($M_\\odot$)</th><th>Radius ($R_\\odot$)</th><th>Density ($g/cm^3$)</th><th>Temperature (K)</th><th>Pressure ($dyn/cm^2$)</th><th>Luminosity ($L_\\odot$)</th><th>Nuclear energy generation rate $\\epsilon$</th><th>Opacity</th><th>$\\nabla_{ad}$</th><th>$\\nabla$</th><th>Radiative/Convective</th></tr></thead>\n",
       "<thead><tr><th>float64</th><th>float64</th><th>float64</th><th>float64</th><th>float64</th><th>float64</th><th>float64</th><th>float64</th><th>float64</th><th>float64</th><th>str10</th></tr></thead>\n",
       "<tr><td>1.0</td><td>0.3774709854967008</td><td>17.74142410433606</td><td>9820976.847286463</td><td>2.3394848184734296e+16</td><td>12.079325208083413</td><td>0.7215015465530459</td><td>1.1377791356500175</td><td>0.4</td><td>0.26221805526019365</td><td>Radiative</td></tr>\n",
       "<tr><td>1.255337065991304</td><td>0.42838606120108463</td><td>11.74190186542967</td><td>8571492.29187374</td><td>1.3513688895292838e+16</td><td>12.139682923390833</td><td>0.25012511270457743</td><td>1.2859786321038895</td><td>0.4</td><td>0.23620515681995616</td><td>Radiative</td></tr>\n",
       "<tr><td>1.5428010646521662</td><td>0.5023044664503314</td><td>5.933923369116964</td><td>7049877.676649775</td><td>5617546897113341.0</td><td>12.158957561922712</td><td>0.04703277287913853</td><td>1.5656243629035187</td><td>0.4</td><td>0.212889790427795</td><td>Radiative</td></tr>\n",
       "<tr><td>1.7256560218882264</td><td>0.5727604155319322</td><td>2.940940692402757</td><td>5882920.9073089175</td><td>2323729090929754.0</td><td>12.161264443814257</td><td>0.00873183330293844</td><td>1.9292355055397414</td><td>0.4</td><td>0.20011685731492146</td><td>Radiative</td></tr>\n",
       "<tr><td>1.8383688626133303</td><td>0.641578487062524</td><td>1.451838930560308</td><td>4954541.5131962495</td><td>966377191282804.5</td><td>12.161527992968134</td><td>0.0015944488416461797</td><td>2.4136260089231167</td><td>0.4</td><td>0.1942758063488773</td><td>Radiative</td></tr>\n",
       "<tr><td>1.905868159656005</td><td>0.7086948963532763</td><td>0.7252018212014736</td><td>4199501.221229954</td><td>409289825676292.4</td><td>12.161556772887394</td><td>0.00028769206192108706</td><td>3.038701539265938</td><td>0.4</td><td>0.19359089803677337</td><td>Radiative</td></tr>\n",
       "<tr><td>...</td><td>...</td><td>...</td><td>...</td><td>...</td><td>...</td><td>...</td><td>...</td><td>...</td><td>...</td><td>...</td></tr>\n",
       "<tr><td>1.9999999999834266</td><td>1.4069358830779681</td><td>4.0376010366834655e-09</td><td>15006.866008788227</td><td>8255.345685813892</td><td>12.16156016138218</td><td>2.484934707202939e-61</td><td>28.63480412477694</td><td>0.4</td><td>0.21502513453149055</td><td>Radiative</td></tr>\n",
       "<tr><td>1.999999999989797</td><td>1.4073761180554376</td><td>2.8751602327965775e-09</td><td>13636.577026464802</td><td>5346.262223660613</td><td>12.16156016138218</td><td>2.2122090144392785e-63</td><td>31.934210984352404</td><td>0.4</td><td>0.22777430698040646</td><td>Radiative</td></tr>\n",
       "<tr><td>1.9999999999967801</td><td>1.408122151057504</td><td>1.580027305745953e-09</td><td>10080.86079812467</td><td>2162.5443037929813</td><td>12.16156016138218</td><td>4.5810967850660424e-70</td><td>22.586717873909404</td><td>0.4</td><td>0.21819632755306015</td><td>Radiative</td></tr>\n",
       "<tr><td>1.9999999999996783</td><td>1.4087545271308861</td><td>6.737134131172513e-10</td><td>9141.617235753372</td><td>843.7232012927644</td><td>12.16156016138218</td><td>1.163809251893438e-72</td><td>7.587374461174699</td><td>0.4</td><td>0.04228819463199228</td><td>Radiative</td></tr>\n",
       "<tr><td>1.999999999999968</td><td>1.4088649751523639</td><td>5.702465615271772e-10</td><td>9083.903996601519</td><td>711.9962511317192</td><td>12.16156016138218</td><td>7.026265057746774e-73</td><td>6.79659584660187</td><td>0.4</td><td>0.0327867807909122</td><td>Radiative</td></tr>\n",
       "<tr><td>1.9999999999999971</td><td>1.4088771071133415</td><td>5.598095329092143e-10</td><td>9078.420598739938</td><td>698.825904843538</td><td>12.16156016138218</td><td>6.678712043922472e-73</td><td>6.720698491524383</td><td>0.4</td><td>0.03189789152946599</td><td>Radiative</td></tr>\n",
       "<tr><td>2.0</td><td>1.408878332719003</td><td>5.587649606828364e-10</td><td>9077.875108598037</td><td>697.5088952572804</td><td>12.16156016138218</td><td>6.644882238601115e-73</td><td>6.713135584676539</td><td>0.4</td><td>0.03180959372632106</td><td>Radiative</td></tr>\n",
       "</table></div>"
      ],
      "text/plain": [
       "<Table length=50>\n",
       " Mass ($M_\\odot$)   Radius ($R_\\odot$) ... Radiative/Convective\n",
       "     float64             float64       ...        str10        \n",
       "------------------ ------------------- ... --------------------\n",
       "               1.0  0.3774709854967008 ...            Radiative\n",
       " 1.255337065991304 0.42838606120108463 ...            Radiative\n",
       "1.5428010646521662  0.5023044664503314 ...            Radiative\n",
       "1.7256560218882264  0.5727604155319322 ...            Radiative\n",
       "1.8383688626133303   0.641578487062524 ...            Radiative\n",
       " 1.905868159656005  0.7086948963532763 ...            Radiative\n",
       "               ...                 ... ...                  ...\n",
       "1.9999999999834266  1.4069358830779681 ...            Radiative\n",
       " 1.999999999989797  1.4073761180554376 ...            Radiative\n",
       "1.9999999999967801   1.408122151057504 ...            Radiative\n",
       "1.9999999999996783  1.4087545271308861 ...            Radiative\n",
       " 1.999999999999968  1.4088649751523639 ...            Radiative\n",
       "1.9999999999999971  1.4088771071133415 ...            Radiative\n",
       "               2.0   1.408878332719003 ...            Radiative"
      ]
     },
     "execution_count": 24,
     "metadata": {},
     "output_type": "execute_result"
    }
   ],
   "source": [
    "tab2"
   ]
  },
  {
   "cell_type": "code",
   "execution_count": 27,
   "id": "9e11925f",
   "metadata": {},
   "outputs": [],
   "source": [
    "final_table.write('final_table3.fits') #save final table"
   ]
  },
  {
   "cell_type": "code",
   "execution_count": 31,
   "id": "993c7466",
   "metadata": {},
   "outputs": [],
   "source": []
  },
  {
   "cell_type": "code",
   "execution_count": 82,
   "id": "899b96fe",
   "metadata": {},
   "outputs": [],
   "source": [
    "latex_tab = vstack([final_table[:int(len(final_table)/3)+30:40],\n",
    "                    final_table[int(len(final_table)/3)+30:int(2*len(final_table)/3):3],\n",
    "                    final_table[int(2*len(final_table)/3)::20]])"
   ]
  },
  {
   "cell_type": "code",
   "execution_count": 83,
   "id": "99512c00",
   "metadata": {},
   "outputs": [
    {
     "data": {
      "text/html": [
       "<div><i>Table length=11</i>\n",
       "<table id=\"table140535772776824\" class=\"table-striped table-bordered table-condensed\">\n",
       "<thead><tr><th>Mass ($M_\\odot$)</th><th>Radius ($R_\\odot$)</th><th>Density ($g/cm^3$)</th><th>Temperature (K)</th><th>Pressure ($dyn/cm^2$)</th><th>Luminosity ($L_\\odot$)</th><th>Nuclear energy generation rate $\\epsilon$</th><th>Opacity</th><th>$\\nabla_{ad}$</th><th>$\\nabla$</th><th>Radiative/Convective</th></tr></thead>\n",
       "<thead><tr><th>float64</th><th>float64</th><th>float64</th><th>float64</th><th>float64</th><th>float64</th><th>float64</th><th>float64</th><th>float64</th><th>float64</th><th>str10</th></tr></thead>\n",
       "<tr><td>0.0</td><td>0.0</td><td>74.0</td><td>20176056.33</td><td>2.006784694770129e+17</td><td>0.0</td><td>278.6</td><td>0.63</td><td>0.4</td><td>0.84</td><td>Convective</td></tr>\n",
       "<tr><td>0.0</td><td>0.0</td><td>73.9976</td><td>20176056.3344</td><td>2.006784694770111e+17</td><td>0.0</td><td>278.6007</td><td>0.6324</td><td>0.4</td><td>0.8416</td><td>Convective</td></tr>\n",
       "<tr><td>0.0</td><td>0.0059</td><td>73.9695</td><td>20170931.9878</td><td>2.0055107283384934e+17</td><td>0.0016</td><td>277.5334</td><td>0.6326</td><td>0.4</td><td>0.8402</td><td>Convective</td></tr>\n",
       "<tr><td>0.0002</td><td>0.0163</td><td>73.7837</td><td>20137060.8909</td><td>1.9971027301254794e+17</td><td>0.0326</td><td>270.591</td><td>0.6335</td><td>0.4</td><td>0.8306</td><td>Convective</td></tr>\n",
       "<tr><td>0.0027</td><td>0.0372</td><td>72.8723</td><td>19970540.7402</td><td>1.956074112293791e+17</td><td>0.3567</td><td>239.1528</td><td>0.6379</td><td>0.4</td><td>0.787</td><td>Convective</td></tr>\n",
       "<tr><td>0.0285</td><td>0.0828</td><td>68.5821</td><td>19177094.1536</td><td>1.7675576579345395e+17</td><td>2.7278</td><td>136.721</td><td>0.6599</td><td>0.4</td><td>0.6253</td><td>Convective</td></tr>\n",
       "<tr><td>0.29</td><td>0.19</td><td>48.99</td><td>15376261.71</td><td>1.0118418200959117e+17</td><td>9.57</td><td>20.94</td><td>0.8</td><td>0.4</td><td>0.36</td><td>Radiative</td></tr>\n",
       "<tr><td>1.0</td><td>0.3494</td><td>15.8934</td><td>9864206.7792</td><td>2.105292790438819e+16</td><td>12.0756</td><td>0.6586</td><td>1.0805</td><td>0.4</td><td>0.2201</td><td>Radiative</td></tr>\n",
       "<tr><td>1.5428</td><td>0.5023</td><td>5.9339</td><td>7049877.6766</td><td>5617546897113341.0</td><td>12.159</td><td>0.047</td><td>1.5656</td><td>0.4</td><td>0.2129</td><td>Radiative</td></tr>\n",
       "<tr><td>2.0</td><td>1.3177</td><td>0.0001</td><td>333827.3383</td><td>2810076698.3095</td><td>12.1616</td><td>0.0</td><td>20.54</td><td>0.4</td><td>0.2144</td><td>Radiative</td></tr>\n",
       "<tr><td>2.0</td><td>1.4062</td><td>0.0</td><td>17103.3019</td><td>15309.768</td><td>12.1616</td><td>0.0</td><td>26.3108</td><td>0.4</td><td>0.2172</td><td>Radiative</td></tr>\n",
       "</table></div>"
      ],
      "text/plain": [
       "<Table length=11>\n",
       "Mass ($M_\\odot$) Radius ($R_\\odot$) ... $\\nabla$ Radiative/Convective\n",
       "    float64           float64       ... float64         str10        \n",
       "---------------- ------------------ ... -------- --------------------\n",
       "             0.0                0.0 ...     0.84           Convective\n",
       "             0.0                0.0 ...   0.8416           Convective\n",
       "             0.0             0.0059 ...   0.8402           Convective\n",
       "          0.0002             0.0163 ...   0.8306           Convective\n",
       "          0.0027             0.0372 ...    0.787           Convective\n",
       "          0.0285             0.0828 ...   0.6253           Convective\n",
       "            0.29               0.19 ...     0.36            Radiative\n",
       "             1.0             0.3494 ...   0.2201            Radiative\n",
       "          1.5428             0.5023 ...   0.2129            Radiative\n",
       "             2.0             1.3177 ...   0.2144            Radiative\n",
       "             2.0             1.4062 ...   0.2172            Radiative"
      ]
     },
     "execution_count": 83,
     "metadata": {},
     "output_type": "execute_result"
    }
   ],
   "source": [
    "latex_tab.round(4)\n",
    "latex_tab"
   ]
  },
  {
   "cell_type": "code",
   "execution_count": 85,
   "id": "a327ff9b",
   "metadata": {},
   "outputs": [],
   "source": [
    "latex_tab.write('latex_tab.csv')"
   ]
  }
 ],
 "metadata": {
  "kernelspec": {
   "display_name": "Python 3 (ipykernel)",
   "language": "python",
   "name": "python3"
  },
  "language_info": {
   "codemirror_mode": {
    "name": "ipython",
    "version": 3
   },
   "file_extension": ".py",
   "mimetype": "text/x-python",
   "name": "python",
   "nbconvert_exporter": "python",
   "pygments_lexer": "ipython3",
   "version": "3.7.3"
  }
 },
 "nbformat": 4,
 "nbformat_minor": 5
}
